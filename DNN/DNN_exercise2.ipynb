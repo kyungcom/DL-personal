{
 "cells": [
  {
   "cell_type": "markdown",
   "id": "199ef12b",
   "metadata": {},
   "source": [
    "## 가볍게 타이타닉 생존자 예측을 진행해보자"
   ]
  },
  {
   "cell_type": "code",
   "execution_count": 24,
   "id": "0adff13c",
   "metadata": {},
   "outputs": [],
   "source": [
    "from tensorflow import keras\n",
    "from sklearn.model_selection import train_test_split\n",
    "\n",
    "import tensorflow as tf\n",
    "import matplotlib.pyplot as plt\n",
    "import numpy as np\n",
    "import pandas as pd\n",
    "from \n",
    "\n",
    "import warnings    # 경고메시지 제외\n",
    "warnings.filterwarnings(action='ignore')"
   ]
  },
  {
   "cell_type": "code",
   "execution_count": 17,
   "id": "e93fdfcf",
   "metadata": {},
   "outputs": [
    {
     "name": "stdout",
     "output_type": "stream",
     "text": [
      "^C\n"
     ]
    }
   ],
   "source": [
    "!pip install datawig"
   ]
  },
  {
   "cell_type": "code",
   "execution_count": 2,
   "id": "3831d718",
   "metadata": {},
   "outputs": [],
   "source": [
    "data = pd.read_csv(\"titanic.csv\")"
   ]
  },
  {
   "cell_type": "code",
   "execution_count": 3,
   "id": "8615d8a8",
   "metadata": {},
   "outputs": [
    {
     "data": {
      "text/html": [
       "<div>\n",
       "<style scoped>\n",
       "    .dataframe tbody tr th:only-of-type {\n",
       "        vertical-align: middle;\n",
       "    }\n",
       "\n",
       "    .dataframe tbody tr th {\n",
       "        vertical-align: top;\n",
       "    }\n",
       "\n",
       "    .dataframe thead th {\n",
       "        text-align: right;\n",
       "    }\n",
       "</style>\n",
       "<table border=\"1\" class=\"dataframe\">\n",
       "  <thead>\n",
       "    <tr style=\"text-align: right;\">\n",
       "      <th></th>\n",
       "      <th>PassengerId</th>\n",
       "      <th>Survived</th>\n",
       "      <th>Pclass</th>\n",
       "      <th>Name</th>\n",
       "      <th>Sex</th>\n",
       "      <th>Age</th>\n",
       "      <th>SibSp</th>\n",
       "      <th>Parch</th>\n",
       "      <th>Ticket</th>\n",
       "      <th>Fare</th>\n",
       "      <th>Cabin</th>\n",
       "      <th>Embarked</th>\n",
       "    </tr>\n",
       "  </thead>\n",
       "  <tbody>\n",
       "    <tr>\n",
       "      <th>0</th>\n",
       "      <td>1</td>\n",
       "      <td>0</td>\n",
       "      <td>3</td>\n",
       "      <td>Braund, Mr. Owen Harris</td>\n",
       "      <td>male</td>\n",
       "      <td>22.0</td>\n",
       "      <td>1</td>\n",
       "      <td>0</td>\n",
       "      <td>A/5 21171</td>\n",
       "      <td>7.2500</td>\n",
       "      <td>NaN</td>\n",
       "      <td>S</td>\n",
       "    </tr>\n",
       "    <tr>\n",
       "      <th>1</th>\n",
       "      <td>2</td>\n",
       "      <td>1</td>\n",
       "      <td>1</td>\n",
       "      <td>Cumings, Mrs. John Bradley (Florence Briggs Th...</td>\n",
       "      <td>female</td>\n",
       "      <td>38.0</td>\n",
       "      <td>1</td>\n",
       "      <td>0</td>\n",
       "      <td>PC 17599</td>\n",
       "      <td>71.2833</td>\n",
       "      <td>C85</td>\n",
       "      <td>C</td>\n",
       "    </tr>\n",
       "    <tr>\n",
       "      <th>2</th>\n",
       "      <td>3</td>\n",
       "      <td>1</td>\n",
       "      <td>3</td>\n",
       "      <td>Heikkinen, Miss. Laina</td>\n",
       "      <td>female</td>\n",
       "      <td>26.0</td>\n",
       "      <td>0</td>\n",
       "      <td>0</td>\n",
       "      <td>STON/O2. 3101282</td>\n",
       "      <td>7.9250</td>\n",
       "      <td>NaN</td>\n",
       "      <td>S</td>\n",
       "    </tr>\n",
       "    <tr>\n",
       "      <th>3</th>\n",
       "      <td>4</td>\n",
       "      <td>1</td>\n",
       "      <td>1</td>\n",
       "      <td>Futrelle, Mrs. Jacques Heath (Lily May Peel)</td>\n",
       "      <td>female</td>\n",
       "      <td>35.0</td>\n",
       "      <td>1</td>\n",
       "      <td>0</td>\n",
       "      <td>113803</td>\n",
       "      <td>53.1000</td>\n",
       "      <td>C123</td>\n",
       "      <td>S</td>\n",
       "    </tr>\n",
       "    <tr>\n",
       "      <th>4</th>\n",
       "      <td>5</td>\n",
       "      <td>0</td>\n",
       "      <td>3</td>\n",
       "      <td>Allen, Mr. William Henry</td>\n",
       "      <td>male</td>\n",
       "      <td>35.0</td>\n",
       "      <td>0</td>\n",
       "      <td>0</td>\n",
       "      <td>373450</td>\n",
       "      <td>8.0500</td>\n",
       "      <td>NaN</td>\n",
       "      <td>S</td>\n",
       "    </tr>\n",
       "  </tbody>\n",
       "</table>\n",
       "</div>"
      ],
      "text/plain": [
       "   PassengerId  Survived  Pclass  \\\n",
       "0            1         0       3   \n",
       "1            2         1       1   \n",
       "2            3         1       3   \n",
       "3            4         1       1   \n",
       "4            5         0       3   \n",
       "\n",
       "                                                Name     Sex   Age  SibSp  \\\n",
       "0                            Braund, Mr. Owen Harris    male  22.0      1   \n",
       "1  Cumings, Mrs. John Bradley (Florence Briggs Th...  female  38.0      1   \n",
       "2                             Heikkinen, Miss. Laina  female  26.0      0   \n",
       "3       Futrelle, Mrs. Jacques Heath (Lily May Peel)  female  35.0      1   \n",
       "4                           Allen, Mr. William Henry    male  35.0      0   \n",
       "\n",
       "   Parch            Ticket     Fare Cabin Embarked  \n",
       "0      0         A/5 21171   7.2500   NaN        S  \n",
       "1      0          PC 17599  71.2833   C85        C  \n",
       "2      0  STON/O2. 3101282   7.9250   NaN        S  \n",
       "3      0            113803  53.1000  C123        S  \n",
       "4      0            373450   8.0500   NaN        S  "
      ]
     },
     "execution_count": 3,
     "metadata": {},
     "output_type": "execute_result"
    }
   ],
   "source": [
    "data.head()"
   ]
  },
  {
   "cell_type": "code",
   "execution_count": 4,
   "id": "bd80f1fb",
   "metadata": {},
   "outputs": [
    {
     "name": "stdout",
     "output_type": "stream",
     "text": [
      "<class 'pandas.core.frame.DataFrame'>\n",
      "RangeIndex: 891 entries, 0 to 890\n",
      "Data columns (total 12 columns):\n",
      " #   Column       Non-Null Count  Dtype  \n",
      "---  ------       --------------  -----  \n",
      " 0   PassengerId  891 non-null    int64  \n",
      " 1   Survived     891 non-null    int64  \n",
      " 2   Pclass       891 non-null    int64  \n",
      " 3   Name         891 non-null    object \n",
      " 4   Sex          891 non-null    object \n",
      " 5   Age          714 non-null    float64\n",
      " 6   SibSp        891 non-null    int64  \n",
      " 7   Parch        891 non-null    int64  \n",
      " 8   Ticket       891 non-null    object \n",
      " 9   Fare         891 non-null    float64\n",
      " 10  Cabin        204 non-null    object \n",
      " 11  Embarked     889 non-null    object \n",
      "dtypes: float64(2), int64(5), object(5)\n",
      "memory usage: 83.7+ KB\n"
     ]
    }
   ],
   "source": [
    "data.info()"
   ]
  },
  {
   "cell_type": "code",
   "execution_count": 5,
   "id": "ed1a5f86",
   "metadata": {},
   "outputs": [],
   "source": [
    "# PassengerId  승객ID\n",
    "# Survived  생존여부\n",
    "# Pclass 사회경제적 지위(1에 가까울 수록 높음)\n",
    "# Name 이름\n",
    "# Sex 성\n",
    "# Age 나이\n",
    "# SibSp 동반한 Sibling(형제자매)와 Spouse(배우자)의 수\n",
    "# Parch : 동반한 Parent(부모) Child(자식)의 수\n",
    "# Ticket : 티켓의 고유넘버\n",
    "# Fare : 티켓의 요금\n",
    "# Cabin : 객실 번호\n",
    "# Embarked : 승선한 항"
   ]
  },
  {
   "cell_type": "code",
   "execution_count": 6,
   "id": "08053c36",
   "metadata": {},
   "outputs": [],
   "source": [
    "# 일단 승객 ID, 티켓넘버, 이름은 제거\n",
    "data.drop([\"PassengerId\", \"Ticket\", \"Name\"], axis = 1, inplace = True)"
   ]
  },
  {
   "cell_type": "code",
   "execution_count": 7,
   "id": "22594d67",
   "metadata": {},
   "outputs": [
    {
     "name": "stdout",
     "output_type": "stream",
     "text": [
      "Survived         0         1\n",
      "Embarked                    \n",
      "C         0.446429  0.553571\n",
      "Q         0.610390  0.389610\n",
      "S         0.663043  0.336957\n"
     ]
    },
    {
     "data": {
      "image/png": "[encoded data removed]",
      "text/plain": [
       "<Figure size 432x288 with 1 Axes>"
      ]
     },
     "metadata": {
      "needs_background": "light"
     },
     "output_type": "display_data"
    }
   ],
   "source": [
    "# Embarked도 상관없을 것으로 판단, 확인해보자\n",
    "\n",
    "temp = pd.crosstab(data['Embarked'], data['Survived'], normalize = 'index')\n",
    "print(temp)\n",
    "temp.plot.bar(stacked=True)\n",
    "plt.axhline(1-data['Survived'].mean(), color = 'r')\n",
    "plt.show()"
   ]
  },
  {
   "cell_type": "code",
   "execution_count": 8,
   "id": "f97260d9",
   "metadata": {},
   "outputs": [
    {
     "name": "stdout",
     "output_type": "stream",
     "text": [
      "교차표\n",
      " Embarked   C   Q    S\n",
      "Survived             \n",
      "0         75  47  427\n",
      "1         93  30  217\n",
      "----------------------------------------------------------------------------------------------------\n",
      "카이제곱통계량 26.48914983923762\n",
      "p-value 1.769922284120912e-06\n",
      "기대빈도\n",
      " [[103.7480315  47.5511811 397.7007874]\n",
      " [ 64.2519685  29.4488189 246.2992126]]\n"
     ]
    }
   ],
   "source": [
    "import scipy.stats as spst\n",
    "# 먼저 집계\n",
    "table = pd.crosstab(data['Survived'], data['Embarked'])\n",
    "print('교차표\\n', table)\n",
    "print('-' * 100)\n",
    "\n",
    "# 카이제곱검정\n",
    "result = spst.chi2_contingency(table)\n",
    "print('카이제곱통계량', result[0])\n",
    "print('p-value', result[1])\n",
    "print('기대빈도\\n',result[3])"
   ]
  },
  {
   "cell_type": "code",
   "execution_count": 9,
   "id": "5638c996",
   "metadata": {},
   "outputs": [],
   "source": [
    "# 승선지역은 생존에 영향을 미치는 것으로 보인다."
   ]
  },
  {
   "cell_type": "markdown",
   "id": "a2f3e1d2",
   "metadata": {},
   "source": [
    "#### 결측치 확인"
   ]
  },
  {
   "cell_type": "code",
   "execution_count": 10,
   "id": "beb7142d",
   "metadata": {},
   "outputs": [
    {
     "data": {
      "text/plain": [
       "Survived      0\n",
       "Pclass        0\n",
       "Sex           0\n",
       "Age         177\n",
       "SibSp         0\n",
       "Parch         0\n",
       "Fare          0\n",
       "Cabin       687\n",
       "Embarked      2\n",
       "dtype: int64"
      ]
     },
     "execution_count": 10,
     "metadata": {},
     "output_type": "execute_result"
    }
   ],
   "source": [
    "data.isna().sum()"
   ]
  },
  {
   "cell_type": "code",
   "execution_count": 11,
   "id": "b4afa913",
   "metadata": {},
   "outputs": [],
   "source": [
    "# Cabin은 너무 많은 결측치가 존재한다. 제거하자.\n",
    "data = data.drop(\"Cabin\", axis = 1)"
   ]
  },
  {
   "cell_type": "code",
   "execution_count": 12,
   "id": "1c0cd931",
   "metadata": {},
   "outputs": [],
   "source": [
    "# Embarked의 결측치는 2개밖에 존재하지 않는다. 행단위로 제거하자.\n",
    "data.dropna(axis = 0,subset = \"Embarked\", inplace = True)"
   ]
  },
  {
   "cell_type": "code",
   "execution_count": 13,
   "id": "b6d26006",
   "metadata": {},
   "outputs": [
    {
     "data": {
      "text/plain": [
       "Survived      0\n",
       "Pclass        0\n",
       "Sex           0\n",
       "Age         177\n",
       "SibSp         0\n",
       "Parch         0\n",
       "Fare          0\n",
       "Embarked      0\n",
       "dtype: int64"
      ]
     },
     "execution_count": 13,
     "metadata": {},
     "output_type": "execute_result"
    }
   ],
   "source": [
    "data.isna().sum()"
   ]
  },
  {
   "cell_type": "code",
   "execution_count": 19,
   "id": "3e51dfd0",
   "metadata": {},
   "outputs": [],
   "source": [
    "# Age도 제거해보자\n",
    "data.dropna(axis = 0,subset = \"Age\", inplace = True)"
   ]
  },
  {
   "cell_type": "code",
   "execution_count": 20,
   "id": "1fbceca5",
   "metadata": {},
   "outputs": [
    {
     "data": {
      "text/plain": [
       "Survived    0\n",
       "Pclass      0\n",
       "Sex         0\n",
       "Age         0\n",
       "SibSp       0\n",
       "Parch       0\n",
       "Fare        0\n",
       "Embarked    0\n",
       "dtype: int64"
      ]
     },
     "execution_count": 20,
     "metadata": {},
     "output_type": "execute_result"
    }
   ],
   "source": [
    "data.isna().sum()"
   ]
  },
  {
   "cell_type": "markdown",
   "id": "c17a2162",
   "metadata": {},
   "source": [
    "### 가변수화"
   ]
  },
  {
   "cell_type": "code",
   "execution_count": 25,
   "id": "75d29549",
   "metadata": {},
   "outputs": [],
   "source": [
    "columns = [\"Sex\", \"Embarked\",\"Pclass\"]\n",
    "data = pd.get_dummies(data, drop_first=True, columns=columns)"
   ]
  },
  {
   "cell_type": "code",
   "execution_count": 27,
   "id": "2b0d2b60",
   "metadata": {},
   "outputs": [
    {
     "data": {
      "text/html": [
       "<div>\n",
       "<style scoped>\n",
       "    .dataframe tbody tr th:only-of-type {\n",
       "        vertical-align: middle;\n",
       "    }\n",
       "\n",
       "    .dataframe tbody tr th {\n",
       "        vertical-align: top;\n",
       "    }\n",
       "\n",
       "    .dataframe thead th {\n",
       "        text-align: right;\n",
       "    }\n",
       "</style>\n",
       "<table border=\"1\" class=\"dataframe\">\n",
       "  <thead>\n",
       "    <tr style=\"text-align: right;\">\n",
       "      <th></th>\n",
       "      <th>Survived</th>\n",
       "      <th>Age</th>\n",
       "      <th>SibSp</th>\n",
       "      <th>Parch</th>\n",
       "      <th>Fare</th>\n",
       "      <th>Sex_male</th>\n",
       "      <th>Embarked_Q</th>\n",
       "      <th>Embarked_S</th>\n",
       "      <th>Pclass_2</th>\n",
       "      <th>Pclass_3</th>\n",
       "    </tr>\n",
       "  </thead>\n",
       "  <tbody>\n",
       "    <tr>\n",
       "      <th>0</th>\n",
       "      <td>0</td>\n",
       "      <td>22.0</td>\n",
       "      <td>1</td>\n",
       "      <td>0</td>\n",
       "      <td>7.2500</td>\n",
       "      <td>1</td>\n",
       "      <td>0</td>\n",
       "      <td>1</td>\n",
       "      <td>0</td>\n",
       "      <td>1</td>\n",
       "    </tr>\n",
       "    <tr>\n",
       "      <th>1</th>\n",
       "      <td>1</td>\n",
       "      <td>38.0</td>\n",
       "      <td>1</td>\n",
       "      <td>0</td>\n",
       "      <td>71.2833</td>\n",
       "      <td>0</td>\n",
       "      <td>0</td>\n",
       "      <td>0</td>\n",
       "      <td>0</td>\n",
       "      <td>0</td>\n",
       "    </tr>\n",
       "    <tr>\n",
       "      <th>2</th>\n",
       "      <td>1</td>\n",
       "      <td>26.0</td>\n",
       "      <td>0</td>\n",
       "      <td>0</td>\n",
       "      <td>7.9250</td>\n",
       "      <td>0</td>\n",
       "      <td>0</td>\n",
       "      <td>1</td>\n",
       "      <td>0</td>\n",
       "      <td>1</td>\n",
       "    </tr>\n",
       "    <tr>\n",
       "      <th>3</th>\n",
       "      <td>1</td>\n",
       "      <td>35.0</td>\n",
       "      <td>1</td>\n",
       "      <td>0</td>\n",
       "      <td>53.1000</td>\n",
       "      <td>0</td>\n",
       "      <td>0</td>\n",
       "      <td>1</td>\n",
       "      <td>0</td>\n",
       "      <td>0</td>\n",
       "    </tr>\n",
       "    <tr>\n",
       "      <th>4</th>\n",
       "      <td>0</td>\n",
       "      <td>35.0</td>\n",
       "      <td>0</td>\n",
       "      <td>0</td>\n",
       "      <td>8.0500</td>\n",
       "      <td>1</td>\n",
       "      <td>0</td>\n",
       "      <td>1</td>\n",
       "      <td>0</td>\n",
       "      <td>1</td>\n",
       "    </tr>\n",
       "  </tbody>\n",
       "</table>\n",
       "</div>"
      ],
      "text/plain": [
       "   Survived   Age  SibSp  Parch     Fare  Sex_male  Embarked_Q  Embarked_S  \\\n",
       "0         0  22.0      1      0   7.2500         1           0           1   \n",
       "1         1  38.0      1      0  71.2833         0           0           0   \n",
       "2         1  26.0      0      0   7.9250         0           0           1   \n",
       "3         1  35.0      1      0  53.1000         0           0           1   \n",
       "4         0  35.0      0      0   8.0500         1           0           1   \n",
       "\n",
       "   Pclass_2  Pclass_3  \n",
       "0         0         1  \n",
       "1         0         0  \n",
       "2         0         1  \n",
       "3         0         0  \n",
       "4         0         1  "
      ]
     },
     "execution_count": 27,
     "metadata": {},
     "output_type": "execute_result"
    }
   ],
   "source": [
    "data.head()"
   ]
  },
  {
   "cell_type": "markdown",
   "id": "82f222af",
   "metadata": {},
   "source": [
    "### target 분리"
   ]
  },
  {
   "cell_type": "code",
   "execution_count": 28,
   "id": "d2bf460b",
   "metadata": {},
   "outputs": [],
   "source": [
    "target= \"Survived\"\n",
    "\n",
    "x = data.drop(target, axis=1)\n",
    "y = data[target]"
   ]
  },
  {
   "cell_type": "code",
   "execution_count": 29,
   "id": "485a18d5",
   "metadata": {},
   "outputs": [],
   "source": [
    "x_train, x_val, y_train, y_val = train_test_split(x, y, test_size=0.15)"
   ]
  },
  {
   "cell_type": "code",
   "execution_count": 30,
   "id": "3c5e5c71",
   "metadata": {},
   "outputs": [
    {
     "data": {
      "text/plain": [
       "(605, 9)"
      ]
     },
     "execution_count": 30,
     "metadata": {},
     "output_type": "execute_result"
    }
   ],
   "source": [
    "x_train.shape"
   ]
  },
  {
   "cell_type": "markdown",
   "id": "e4f20cd4",
   "metadata": {},
   "source": [
    "### 딥러닝을 위한 콜백함수 선언"
   ]
  },
  {
   "cell_type": "code",
   "execution_count": 32,
   "id": "692bc532",
   "metadata": {},
   "outputs": [],
   "source": [
    "from keras.callbacks import EarlyStopping\n",
    "es = EarlyStopping(monitor = 'val_loss',\n",
    "                  patience = 5,\n",
    "                  min_delta = 0,\n",
    "                  restore_best_weights=True)"
   ]
  },
  {
   "cell_type": "markdown",
   "id": "54c36847",
   "metadata": {},
   "source": [
    "### ANN"
   ]
  },
  {
   "cell_type": "markdown",
   "id": "fd827e16",
   "metadata": {},
   "source": [
    "#### sequential"
   ]
  },
  {
   "cell_type": "code",
   "execution_count": 56,
   "id": "a628cc20",
   "metadata": {},
   "outputs": [],
   "source": [
    "keras.backend.clear_session()\n",
    "\n",
    "model = keras.models.Sequential([keras.layers.Input(shape = (9,)), keras.layers.Dense(64, activation = \"relu\"), keras.layers.Dense(1, activation = \"sigmoid\")])\n",
    "\n",
    "model.compile(loss = \"binary_crossentropy\", optimizer = \"adam\", metrics = ['accuracy'])"
   ]
  },
  {
   "cell_type": "code",
   "execution_count": 57,
   "id": "3f1a2578",
   "metadata": {},
   "outputs": [
    {
     "name": "stdout",
     "output_type": "stream",
     "text": [
      "Epoch 1/500\n",
      "17/17 [==============================] - 1s 17ms/step - loss: 1.0831 - accuracy: 0.6556 - val_loss: 0.7999 - val_accuracy: 0.6813\n",
      "Epoch 2/500\n",
      "17/17 [==============================] - 0s 9ms/step - loss: 0.7976 - accuracy: 0.6381 - val_loss: 0.7389 - val_accuracy: 0.6923\n",
      "Epoch 3/500\n",
      "17/17 [==============================] - 0s 8ms/step - loss: 0.6715 - accuracy: 0.6654 - val_loss: 0.6498 - val_accuracy: 0.6813\n",
      "Epoch 4/500\n",
      "17/17 [==============================] - 0s 9ms/step - loss: 0.6024 - accuracy: 0.7198 - val_loss: 0.6289 - val_accuracy: 0.6703\n",
      "Epoch 5/500\n",
      "17/17 [==============================] - 0s 9ms/step - loss: 0.5860 - accuracy: 0.6965 - val_loss: 0.5294 - val_accuracy: 0.8022\n",
      "Epoch 6/500\n",
      "17/17 [==============================] - 0s 9ms/step - loss: 0.5537 - accuracy: 0.7412 - val_loss: 0.5185 - val_accuracy: 0.7912\n",
      "Epoch 7/500\n",
      "17/17 [==============================] - 0s 9ms/step - loss: 0.5818 - accuracy: 0.6770 - val_loss: 0.5569 - val_accuracy: 0.7582\n",
      "Epoch 8/500\n",
      "17/17 [==============================] - 0s 9ms/step - loss: 0.5441 - accuracy: 0.7101 - val_loss: 0.5093 - val_accuracy: 0.7802\n",
      "Epoch 9/500\n",
      "17/17 [==============================] - 0s 8ms/step - loss: 0.5367 - accuracy: 0.7160 - val_loss: 0.5421 - val_accuracy: 0.7582\n",
      "Epoch 10/500\n",
      "17/17 [==============================] - 0s 8ms/step - loss: 0.5984 - accuracy: 0.6984 - val_loss: 0.4954 - val_accuracy: 0.8132\n",
      "Epoch 11/500\n",
      "17/17 [==============================] - 0s 9ms/step - loss: 0.5508 - accuracy: 0.7198 - val_loss: 0.4934 - val_accuracy: 0.8132\n",
      "Epoch 12/500\n",
      "17/17 [==============================] - 0s 12ms/step - loss: 0.5400 - accuracy: 0.7198 - val_loss: 0.4944 - val_accuracy: 0.8022\n",
      "Epoch 13/500\n",
      "17/17 [==============================] - 0s 11ms/step - loss: 0.5339 - accuracy: 0.7160 - val_loss: 0.5254 - val_accuracy: 0.7802\n",
      "Epoch 14/500\n",
      "17/17 [==============================] - 0s 8ms/step - loss: 0.5408 - accuracy: 0.7354 - val_loss: 0.4901 - val_accuracy: 0.8352\n",
      "Epoch 15/500\n",
      "17/17 [==============================] - 0s 8ms/step - loss: 0.5150 - accuracy: 0.7374 - val_loss: 0.5191 - val_accuracy: 0.8022\n",
      "Epoch 16/500\n",
      "17/17 [==============================] - 0s 8ms/step - loss: 0.5170 - accuracy: 0.7393 - val_loss: 0.5468 - val_accuracy: 0.7802\n",
      "Epoch 17/500\n",
      "17/17 [==============================] - 0s 8ms/step - loss: 0.5252 - accuracy: 0.7432 - val_loss: 0.4924 - val_accuracy: 0.8242\n",
      "Epoch 18/500\n",
      "17/17 [==============================] - 0s 8ms/step - loss: 0.5046 - accuracy: 0.7626 - val_loss: 0.5054 - val_accuracy: 0.8352\n",
      "Epoch 19/500\n",
      "17/17 [==============================] - 0s 8ms/step - loss: 0.5122 - accuracy: 0.7451 - val_loss: 0.4753 - val_accuracy: 0.8352\n",
      "Epoch 20/500\n",
      "17/17 [==============================] - 0s 9ms/step - loss: 0.5165 - accuracy: 0.7549 - val_loss: 0.4835 - val_accuracy: 0.8242\n",
      "Epoch 21/500\n",
      "17/17 [==============================] - 0s 9ms/step - loss: 0.5009 - accuracy: 0.7568 - val_loss: 0.5141 - val_accuracy: 0.8022\n",
      "Epoch 22/500\n",
      "17/17 [==============================] - 0s 8ms/step - loss: 0.4990 - accuracy: 0.7646 - val_loss: 0.4894 - val_accuracy: 0.8242\n",
      "Epoch 23/500\n",
      "17/17 [==============================] - 0s 8ms/step - loss: 0.4977 - accuracy: 0.7704 - val_loss: 0.4734 - val_accuracy: 0.8352\n",
      "Epoch 24/500\n",
      "17/17 [==============================] - 0s 8ms/step - loss: 0.4927 - accuracy: 0.7743 - val_loss: 0.5530 - val_accuracy: 0.7912\n",
      "Epoch 25/500\n",
      "17/17 [==============================] - 0s 9ms/step - loss: 0.4937 - accuracy: 0.7918 - val_loss: 0.4716 - val_accuracy: 0.8352\n",
      "Epoch 26/500\n",
      "17/17 [==============================] - 0s 8ms/step - loss: 0.4885 - accuracy: 0.7607 - val_loss: 0.4703 - val_accuracy: 0.8352\n",
      "Epoch 27/500\n",
      "17/17 [==============================] - 0s 7ms/step - loss: 0.4929 - accuracy: 0.7626 - val_loss: 0.4879 - val_accuracy: 0.8022\n",
      "Epoch 28/500\n",
      "17/17 [==============================] - 0s 7ms/step - loss: 0.4857 - accuracy: 0.7704 - val_loss: 0.4717 - val_accuracy: 0.8242\n",
      "Epoch 29/500\n",
      "17/17 [==============================] - 0s 7ms/step - loss: 0.4778 - accuracy: 0.7802 - val_loss: 0.4683 - val_accuracy: 0.8352\n",
      "Epoch 30/500\n",
      "17/17 [==============================] - 0s 7ms/step - loss: 0.4764 - accuracy: 0.7743 - val_loss: 0.4795 - val_accuracy: 0.8352\n",
      "Epoch 31/500\n",
      "17/17 [==============================] - 0s 7ms/step - loss: 0.4734 - accuracy: 0.7802 - val_loss: 0.4697 - val_accuracy: 0.8352\n",
      "Epoch 32/500\n",
      "17/17 [==============================] - 0s 8ms/step - loss: 0.4991 - accuracy: 0.7782 - val_loss: 0.4881 - val_accuracy: 0.8242\n",
      "Epoch 33/500\n",
      "17/17 [==============================] - 0s 8ms/step - loss: 0.4827 - accuracy: 0.7782 - val_loss: 0.4823 - val_accuracy: 0.8132\n",
      "Epoch 34/500\n",
      "17/17 [==============================] - 0s 7ms/step - loss: 0.4813 - accuracy: 0.7763 - val_loss: 0.4826 - val_accuracy: 0.8242\n"
     ]
    },
    {
     "data": {
      "text/plain": [
       "<keras.callbacks.History at 0x29d7f52ad60>"
      ]
     },
     "execution_count": 57,
     "metadata": {},
     "output_type": "execute_result"
    }
   ],
   "source": [
    "model.fit(x_train, y_train, epochs = 500, verbose = 1, callbacks=[es], validation_split=0.15)"
   ]
  },
  {
   "cell_type": "code",
   "execution_count": 62,
   "id": "e86b772a",
   "metadata": {},
   "outputs": [
    {
     "name": "stdout",
     "output_type": "stream",
     "text": [
      "4/4 [==============================] - 0s 2ms/step\n"
     ]
    }
   ],
   "source": [
    "pred = model.predict(x_val)\n",
    "pred = np.round(pred)"
   ]
  },
  {
   "cell_type": "markdown",
   "id": "40bb4f7b",
   "metadata": {},
   "source": [
    "#### 성능평가"
   ]
  },
  {
   "cell_type": "code",
   "execution_count": 63,
   "id": "b8a3f8f6",
   "metadata": {},
   "outputs": [],
   "source": [
    "from sklearn.metrics import * "
   ]
  },
  {
   "cell_type": "code",
   "execution_count": 64,
   "id": "a67bcd58",
   "metadata": {},
   "outputs": [
    {
     "name": "stdout",
     "output_type": "stream",
     "text": [
      "[[54  9]\n",
      " [19 25]]\n",
      "💘💘💘💘💘💘💘💘💘💘💘💘💘💘💘💘💘💘💘💘\n",
      "              precision    recall  f1-score   support\n",
      "\n",
      "           0       0.74      0.86      0.79        63\n",
      "           1       0.74      0.57      0.64        44\n",
      "\n",
      "    accuracy                           0.74       107\n",
      "   macro avg       0.74      0.71      0.72       107\n",
      "weighted avg       0.74      0.74      0.73       107\n",
      "\n"
     ]
    }
   ],
   "source": [
    "print(confusion_matrix(y_val, pred))\n",
    "print('💘'*20)\n",
    "print(classification_report(y_val, pred))"
   ]
  },
  {
   "cell_type": "code",
   "execution_count": 45,
   "id": "e628ac14",
   "metadata": {},
   "outputs": [],
   "source": [
    "# 성능이 크게 좋지않다."
   ]
  },
  {
   "cell_type": "markdown",
   "id": "7c75925e",
   "metadata": {},
   "source": [
    "#### functional"
   ]
  },
  {
   "cell_type": "code",
   "execution_count": 78,
   "id": "27367e42",
   "metadata": {},
   "outputs": [],
   "source": [
    "keras.backend.clear_session()\n",
    "\n",
    "il = keras.layers.Input(shape = (9,))\n",
    "hl = keras.layers.Dense(128,activation = \"relu\")(il)\n",
    "ol = keras.layers.Dense(1, activation = \"sigmoid\")(hl)\n",
    "\n",
    "model2 = keras.models.Model(il,ol)\n",
    "\n",
    "model2.compile(loss = \"binary_crossentropy\", optimizer = \"adam\", metrics = ['accuracy'])"
   ]
  },
  {
   "cell_type": "code",
   "execution_count": 79,
   "id": "ddd27f14",
   "metadata": {},
   "outputs": [
    {
     "name": "stdout",
     "output_type": "stream",
     "text": [
      "Epoch 1/500\n",
      "16/16 [==============================] - 1s 18ms/step - loss: 1.1665 - accuracy: 0.4649 - val_loss: 1.0252 - val_accuracy: 0.5868\n",
      "Epoch 2/500\n",
      "16/16 [==============================] - 0s 8ms/step - loss: 0.8456 - accuracy: 0.5888 - val_loss: 0.6961 - val_accuracy: 0.7107\n",
      "Epoch 3/500\n",
      "16/16 [==============================] - 0s 9ms/step - loss: 0.7457 - accuracy: 0.6529 - val_loss: 0.6069 - val_accuracy: 0.6860\n",
      "Epoch 4/500\n",
      "16/16 [==============================] - 0s 9ms/step - loss: 0.6311 - accuracy: 0.6880 - val_loss: 0.5998 - val_accuracy: 0.6446\n",
      "Epoch 5/500\n",
      "16/16 [==============================] - 0s 10ms/step - loss: 0.5874 - accuracy: 0.7107 - val_loss: 0.5104 - val_accuracy: 0.8099\n",
      "Epoch 6/500\n",
      "16/16 [==============================] - 0s 8ms/step - loss: 0.5738 - accuracy: 0.6880 - val_loss: 0.4975 - val_accuracy: 0.8099\n",
      "Epoch 7/500\n",
      "16/16 [==============================] - 0s 9ms/step - loss: 0.5895 - accuracy: 0.7045 - val_loss: 0.5311 - val_accuracy: 0.7851\n",
      "Epoch 8/500\n",
      "16/16 [==============================] - 0s 8ms/step - loss: 0.5695 - accuracy: 0.7169 - val_loss: 0.4839 - val_accuracy: 0.8099\n",
      "Epoch 9/500\n",
      "16/16 [==============================] - 0s 8ms/step - loss: 0.5912 - accuracy: 0.7314 - val_loss: 0.5647 - val_accuracy: 0.6777\n",
      "Epoch 10/500\n",
      "16/16 [==============================] - 0s 9ms/step - loss: 0.5534 - accuracy: 0.7231 - val_loss: 0.5116 - val_accuracy: 0.8182\n",
      "Epoch 11/500\n",
      "16/16 [==============================] - 0s 11ms/step - loss: 0.5420 - accuracy: 0.7169 - val_loss: 0.4841 - val_accuracy: 0.8017\n",
      "Epoch 12/500\n",
      "16/16 [==============================] - 0s 11ms/step - loss: 0.5362 - accuracy: 0.7314 - val_loss: 0.5066 - val_accuracy: 0.8017\n",
      "Epoch 13/500\n",
      "16/16 [==============================] - 0s 8ms/step - loss: 0.5393 - accuracy: 0.7459 - val_loss: 0.4907 - val_accuracy: 0.8264\n"
     ]
    },
    {
     "data": {
      "text/plain": [
       "<keras.callbacks.History at 0x29fe17e3850>"
      ]
     },
     "execution_count": 79,
     "metadata": {},
     "output_type": "execute_result"
    }
   ],
   "source": [
    "model2.fit(x_train, y_train, epochs = 500, verbose = 1, callbacks=[es], validation_split=0.2)"
   ]
  },
  {
   "cell_type": "code",
   "execution_count": 80,
   "id": "6ca2b8a1",
   "metadata": {},
   "outputs": [
    {
     "name": "stdout",
     "output_type": "stream",
     "text": [
      "4/4 [==============================] - 0s 2ms/step\n"
     ]
    }
   ],
   "source": [
    "pred2 = model2.predict(x_val)\n",
    "pred2 = np.round(pred2)"
   ]
  },
  {
   "cell_type": "code",
   "execution_count": 81,
   "id": "6abfa9eb",
   "metadata": {},
   "outputs": [
    {
     "name": "stdout",
     "output_type": "stream",
     "text": [
      "[[53 10]\n",
      " [21 23]]\n",
      "💘💘💘💘💘💘💘💘💘💘💘💘💘💘💘💘💘💘💘💘\n",
      "              precision    recall  f1-score   support\n",
      "\n",
      "           0       0.72      0.84      0.77        63\n",
      "           1       0.70      0.52      0.60        44\n",
      "\n",
      "    accuracy                           0.71       107\n",
      "   macro avg       0.71      0.68      0.69       107\n",
      "weighted avg       0.71      0.71      0.70       107\n",
      "\n"
     ]
    }
   ],
   "source": [
    "print(confusion_matrix(y_val, pred2))\n",
    "print('💘'*20)\n",
    "print(classification_report(y_val, pred2))"
   ]
  },
  {
   "cell_type": "code",
   "execution_count": 82,
   "id": "2de7ee83",
   "metadata": {},
   "outputs": [],
   "source": [
    "# 성능이 비슷하다. node의 수는 충분한 것 같다. 이제 layer을 늘려보자"
   ]
  },
  {
   "cell_type": "markdown",
   "id": "86bb0c46",
   "metadata": {},
   "source": [
    "### DNN"
   ]
  },
  {
   "cell_type": "markdown",
   "id": "ed18d014",
   "metadata": {},
   "source": [
    "#### sequential"
   ]
  },
  {
   "cell_type": "code",
   "execution_count": 83,
   "id": "782f6c13",
   "metadata": {},
   "outputs": [],
   "source": [
    "keras.backend.clear_session()\n",
    "\n",
    "model = keras.models.Sequential([keras.layers.Input(shape = (9,))])\n",
    "model.add(keras.layers.Dense(1024, activation = \"relu\"))\n",
    "model.add(keras.layers.Dense(512, activation = \"relu\"))\n",
    "model.add(keras.layers.Dense(128, activation = \"relu\"))\n",
    "model.add(keras.layers.Dense(1, activation = \"sigmoid\"))\n",
    "model.compile(loss = \"binary_crossentropy\", optimizer = \"adam\", metrics = ['accuracy'])"
   ]
  },
  {
   "cell_type": "code",
   "execution_count": 84,
   "id": "def6b855",
   "metadata": {},
   "outputs": [
    {
     "name": "stdout",
     "output_type": "stream",
     "text": [
      "Epoch 1/500\n",
      "16/16 [==============================] - 1s 23ms/step - loss: 0.9314 - accuracy: 0.6116 - val_loss: 0.9201 - val_accuracy: 0.5537\n",
      "Epoch 2/500\n",
      "16/16 [==============================] - 0s 14ms/step - loss: 0.8371 - accuracy: 0.6550 - val_loss: 0.8194 - val_accuracy: 0.5041\n",
      "Epoch 3/500\n",
      "16/16 [==============================] - 0s 14ms/step - loss: 0.8264 - accuracy: 0.6281 - val_loss: 0.5382 - val_accuracy: 0.7686\n",
      "Epoch 4/500\n",
      "16/16 [==============================] - 0s 13ms/step - loss: 0.7337 - accuracy: 0.6426 - val_loss: 0.5929 - val_accuracy: 0.7190\n",
      "Epoch 5/500\n",
      "16/16 [==============================] - 0s 12ms/step - loss: 0.6294 - accuracy: 0.6736 - val_loss: 1.0638 - val_accuracy: 0.5537\n",
      "Epoch 6/500\n",
      "16/16 [==============================] - 0s 11ms/step - loss: 0.6997 - accuracy: 0.6488 - val_loss: 0.5414 - val_accuracy: 0.7851\n",
      "Epoch 7/500\n",
      "16/16 [==============================] - 0s 11ms/step - loss: 0.5977 - accuracy: 0.6860 - val_loss: 0.5273 - val_accuracy: 0.8099\n",
      "Epoch 8/500\n",
      "16/16 [==============================] - 0s 10ms/step - loss: 0.6106 - accuracy: 0.7025 - val_loss: 0.5805 - val_accuracy: 0.6364\n",
      "Epoch 9/500\n",
      "16/16 [==============================] - 0s 9ms/step - loss: 0.5788 - accuracy: 0.6942 - val_loss: 0.5891 - val_accuracy: 0.6364\n",
      "Epoch 10/500\n",
      "16/16 [==============================] - 0s 10ms/step - loss: 0.5798 - accuracy: 0.7004 - val_loss: 0.5151 - val_accuracy: 0.7934\n",
      "Epoch 11/500\n",
      "16/16 [==============================] - 0s 9ms/step - loss: 0.5643 - accuracy: 0.7335 - val_loss: 0.5435 - val_accuracy: 0.7603\n",
      "Epoch 12/500\n",
      "16/16 [==============================] - 0s 9ms/step - loss: 0.5438 - accuracy: 0.7438 - val_loss: 0.5352 - val_accuracy: 0.7769\n",
      "Epoch 13/500\n",
      "16/16 [==============================] - 0s 9ms/step - loss: 0.5522 - accuracy: 0.7293 - val_loss: 0.5140 - val_accuracy: 0.8347\n",
      "Epoch 14/500\n",
      "16/16 [==============================] - 0s 9ms/step - loss: 0.5493 - accuracy: 0.7314 - val_loss: 0.5032 - val_accuracy: 0.8099\n",
      "Epoch 15/500\n",
      "16/16 [==============================] - 0s 9ms/step - loss: 0.5245 - accuracy: 0.7562 - val_loss: 0.6187 - val_accuracy: 0.6364\n",
      "Epoch 16/500\n",
      "16/16 [==============================] - 0s 12ms/step - loss: 0.5818 - accuracy: 0.6983 - val_loss: 0.5065 - val_accuracy: 0.7769\n",
      "Epoch 17/500\n",
      "16/16 [==============================] - 0s 12ms/step - loss: 0.5877 - accuracy: 0.7190 - val_loss: 0.4971 - val_accuracy: 0.7934\n",
      "Epoch 18/500\n",
      "16/16 [==============================] - 0s 11ms/step - loss: 0.5176 - accuracy: 0.7748 - val_loss: 0.4621 - val_accuracy: 0.8512\n",
      "Epoch 19/500\n",
      "16/16 [==============================] - 0s 9ms/step - loss: 0.5297 - accuracy: 0.7376 - val_loss: 0.4747 - val_accuracy: 0.8430\n",
      "Epoch 20/500\n",
      "16/16 [==============================] - 0s 11ms/step - loss: 0.5007 - accuracy: 0.7707 - val_loss: 0.4507 - val_accuracy: 0.8347\n",
      "Epoch 21/500\n",
      "16/16 [==============================] - 0s 9ms/step - loss: 0.5080 - accuracy: 0.7769 - val_loss: 0.4577 - val_accuracy: 0.8099\n",
      "Epoch 22/500\n",
      "16/16 [==============================] - 0s 9ms/step - loss: 0.4771 - accuracy: 0.7686 - val_loss: 0.4878 - val_accuracy: 0.8264\n",
      "Epoch 23/500\n",
      "16/16 [==============================] - 0s 9ms/step - loss: 0.4652 - accuracy: 0.7789 - val_loss: 0.4340 - val_accuracy: 0.8595\n",
      "Epoch 24/500\n",
      "16/16 [==============================] - 0s 9ms/step - loss: 0.4721 - accuracy: 0.7996 - val_loss: 0.4376 - val_accuracy: 0.8264\n",
      "Epoch 25/500\n",
      "16/16 [==============================] - 0s 13ms/step - loss: 0.4801 - accuracy: 0.7893 - val_loss: 0.4821 - val_accuracy: 0.8017\n",
      "Epoch 26/500\n",
      "16/16 [==============================] - 0s 13ms/step - loss: 0.4634 - accuracy: 0.7913 - val_loss: 0.5004 - val_accuracy: 0.8017\n",
      "Epoch 27/500\n",
      "16/16 [==============================] - 0s 9ms/step - loss: 0.4615 - accuracy: 0.7975 - val_loss: 0.4294 - val_accuracy: 0.8430\n",
      "Epoch 28/500\n",
      "16/16 [==============================] - 0s 10ms/step - loss: 0.4822 - accuracy: 0.7851 - val_loss: 0.4962 - val_accuracy: 0.7934\n",
      "Epoch 29/500\n",
      "16/16 [==============================] - 0s 10ms/step - loss: 0.4517 - accuracy: 0.7872 - val_loss: 0.4881 - val_accuracy: 0.7934\n",
      "Epoch 30/500\n",
      "16/16 [==============================] - 0s 10ms/step - loss: 0.4508 - accuracy: 0.7975 - val_loss: 0.5234 - val_accuracy: 0.7769\n",
      "Epoch 31/500\n",
      "16/16 [==============================] - 0s 11ms/step - loss: 0.5344 - accuracy: 0.7707 - val_loss: 0.5673 - val_accuracy: 0.7686\n",
      "Epoch 32/500\n",
      "16/16 [==============================] - 0s 12ms/step - loss: 0.5597 - accuracy: 0.7748 - val_loss: 0.5131 - val_accuracy: 0.8099\n"
     ]
    },
    {
     "data": {
      "text/plain": [
       "<keras.callbacks.History at 0x29febdf5d90>"
      ]
     },
     "execution_count": 84,
     "metadata": {},
     "output_type": "execute_result"
    }
   ],
   "source": [
    "model.fit(x_train, y_train, epochs = 500, verbose = 1, callbacks=[es], validation_split=0.2)"
   ]
  },
  {
   "cell_type": "code",
   "execution_count": 85,
   "id": "89bc8c57",
   "metadata": {},
   "outputs": [
    {
     "name": "stdout",
     "output_type": "stream",
     "text": [
      "4/4 [==============================] - 0s 3ms/step\n"
     ]
    }
   ],
   "source": [
    "pred = model.predict(x_val)\n",
    "pred = np.round(pred)"
   ]
  },
  {
   "cell_type": "code",
   "execution_count": 86,
   "id": "129d7b01",
   "metadata": {},
   "outputs": [
    {
     "name": "stdout",
     "output_type": "stream",
     "text": [
      "[[49 14]\n",
      " [12 32]]\n",
      "💘💘💘💘💘💘💘💘💘💘💘💘💘💘💘💘💘💘💘💘\n",
      "              precision    recall  f1-score   support\n",
      "\n",
      "           0       0.80      0.78      0.79        63\n",
      "           1       0.70      0.73      0.71        44\n",
      "\n",
      "    accuracy                           0.76       107\n",
      "   macro avg       0.75      0.75      0.75       107\n",
      "weighted avg       0.76      0.76      0.76       107\n",
      "\n"
     ]
    }
   ],
   "source": [
    "print(confusion_matrix(y_val, pred))\n",
    "print('💘'*20)\n",
    "print(classification_report(y_val, pred))"
   ]
  },
  {
   "cell_type": "code",
   "execution_count": 87,
   "id": "8a1a35ae",
   "metadata": {},
   "outputs": [],
   "source": [
    "# 성능이 크게 늘지 않았다."
   ]
  },
  {
   "cell_type": "markdown",
   "id": "f0df2131",
   "metadata": {},
   "source": [
    "#### functional"
   ]
  },
  {
   "cell_type": "code",
   "execution_count": 94,
   "id": "8d27aa65",
   "metadata": {},
   "outputs": [],
   "source": [
    "keras.backend.clear_session()\n",
    "\n",
    "il = keras.layers.Input(shape = (9,))\n",
    "hl = keras.layers.Dense(1024,activation = \"relu\")(il)\n",
    "hl = keras.layers.Dense(512,activation = \"relu\")(hl)\n",
    "hl = keras.layers.Dense(256,activation = \"relu\")(hl)\n",
    "hl = keras.layers.Dense(128,activation = \"relu\")(hl)\n",
    "ol = keras.layers.Dense(1, activation = \"sigmoid\")(hl)\n",
    "\n",
    "model = keras.models.Model(il,ol)\n",
    "\n",
    "model.compile(loss = \"binary_crossentropy\", optimizer = \"adam\", metrics = ['accuracy'])"
   ]
  },
  {
   "cell_type": "code",
   "execution_count": 95,
   "id": "615b87da",
   "metadata": {},
   "outputs": [
    {
     "name": "stdout",
     "output_type": "stream",
     "text": [
      "Epoch 1/500\n",
      "16/16 [==============================] - 1s 28ms/step - loss: 0.8648 - accuracy: 0.6116 - val_loss: 0.5989 - val_accuracy: 0.7025\n",
      "Epoch 2/500\n",
      "16/16 [==============================] - 0s 14ms/step - loss: 0.7059 - accuracy: 0.6508 - val_loss: 0.9949 - val_accuracy: 0.5537\n",
      "Epoch 3/500\n",
      "16/16 [==============================] - 0s 13ms/step - loss: 0.6599 - accuracy: 0.6529 - val_loss: 0.6074 - val_accuracy: 0.6529\n",
      "Epoch 4/500\n",
      "16/16 [==============================] - 0s 10ms/step - loss: 0.6530 - accuracy: 0.6467 - val_loss: 0.6688 - val_accuracy: 0.5537\n",
      "Epoch 5/500\n",
      "16/16 [==============================] - 0s 11ms/step - loss: 0.6322 - accuracy: 0.6612 - val_loss: 0.6525 - val_accuracy: 0.5537\n",
      "Epoch 6/500\n",
      "16/16 [==============================] - 0s 12ms/step - loss: 0.6097 - accuracy: 0.6653 - val_loss: 0.5406 - val_accuracy: 0.7686\n",
      "Epoch 7/500\n",
      "16/16 [==============================] - 0s 11ms/step - loss: 0.6090 - accuracy: 0.6694 - val_loss: 0.5550 - val_accuracy: 0.7934\n",
      "Epoch 8/500\n",
      "16/16 [==============================] - 0s 10ms/step - loss: 0.6187 - accuracy: 0.6550 - val_loss: 0.5788 - val_accuracy: 0.7273\n",
      "Epoch 9/500\n",
      "16/16 [==============================] - 0s 10ms/step - loss: 0.6617 - accuracy: 0.6322 - val_loss: 0.5983 - val_accuracy: 0.6529\n",
      "Epoch 10/500\n",
      "16/16 [==============================] - 0s 11ms/step - loss: 0.6186 - accuracy: 0.6488 - val_loss: 0.6525 - val_accuracy: 0.5537\n",
      "Epoch 11/500\n",
      "16/16 [==============================] - 0s 11ms/step - loss: 0.5967 - accuracy: 0.6674 - val_loss: 0.5323 - val_accuracy: 0.8017\n",
      "Epoch 12/500\n",
      "16/16 [==============================] - 0s 11ms/step - loss: 0.5799 - accuracy: 0.7045 - val_loss: 0.5985 - val_accuracy: 0.7355\n",
      "Epoch 13/500\n",
      "16/16 [==============================] - 0s 10ms/step - loss: 0.5820 - accuracy: 0.6942 - val_loss: 0.4891 - val_accuracy: 0.8595\n",
      "Epoch 14/500\n",
      "16/16 [==============================] - 0s 10ms/step - loss: 0.5698 - accuracy: 0.7273 - val_loss: 0.5089 - val_accuracy: 0.7851\n",
      "Epoch 15/500\n",
      "16/16 [==============================] - 0s 10ms/step - loss: 0.5654 - accuracy: 0.7211 - val_loss: 0.4878 - val_accuracy: 0.8347\n",
      "Epoch 16/500\n",
      "16/16 [==============================] - 0s 11ms/step - loss: 0.5246 - accuracy: 0.7583 - val_loss: 0.5071 - val_accuracy: 0.8099\n",
      "Epoch 17/500\n",
      "16/16 [==============================] - 0s 10ms/step - loss: 0.5348 - accuracy: 0.7521 - val_loss: 0.5334 - val_accuracy: 0.8099\n",
      "Epoch 18/500\n",
      "16/16 [==============================] - 0s 10ms/step - loss: 0.5124 - accuracy: 0.7583 - val_loss: 0.5175 - val_accuracy: 0.7769\n",
      "Epoch 19/500\n",
      "16/16 [==============================] - 0s 10ms/step - loss: 0.5134 - accuracy: 0.7707 - val_loss: 0.4878 - val_accuracy: 0.7934\n",
      "Epoch 20/500\n",
      "16/16 [==============================] - 0s 11ms/step - loss: 0.5656 - accuracy: 0.7211 - val_loss: 0.4823 - val_accuracy: 0.8347\n",
      "Epoch 21/500\n",
      "16/16 [==============================] - 0s 11ms/step - loss: 0.5031 - accuracy: 0.7893 - val_loss: 0.4654 - val_accuracy: 0.8017\n",
      "Epoch 22/500\n",
      "16/16 [==============================] - 0s 11ms/step - loss: 0.5512 - accuracy: 0.7459 - val_loss: 0.5064 - val_accuracy: 0.7769\n",
      "Epoch 23/500\n",
      "16/16 [==============================] - 0s 10ms/step - loss: 0.5025 - accuracy: 0.7583 - val_loss: 0.5242 - val_accuracy: 0.8017\n",
      "Epoch 24/500\n",
      "16/16 [==============================] - 0s 10ms/step - loss: 0.4997 - accuracy: 0.7769 - val_loss: 0.4533 - val_accuracy: 0.8512\n",
      "Epoch 25/500\n",
      "16/16 [==============================] - 0s 10ms/step - loss: 0.4783 - accuracy: 0.7831 - val_loss: 0.5243 - val_accuracy: 0.8099\n",
      "Epoch 26/500\n",
      "16/16 [==============================] - 0s 9ms/step - loss: 0.4756 - accuracy: 0.7872 - val_loss: 0.5060 - val_accuracy: 0.8099\n",
      "Epoch 27/500\n",
      "16/16 [==============================] - 0s 11ms/step - loss: 0.4874 - accuracy: 0.7893 - val_loss: 0.5307 - val_accuracy: 0.7769\n",
      "Epoch 28/500\n",
      "16/16 [==============================] - 0s 12ms/step - loss: 0.5058 - accuracy: 0.7748 - val_loss: 0.4192 - val_accuracy: 0.8678\n",
      "Epoch 29/500\n",
      "16/16 [==============================] - 0s 11ms/step - loss: 0.4832 - accuracy: 0.7975 - val_loss: 0.5672 - val_accuracy: 0.7438\n",
      "Epoch 30/500\n",
      "16/16 [==============================] - 0s 10ms/step - loss: 0.5023 - accuracy: 0.7810 - val_loss: 0.4908 - val_accuracy: 0.8595\n",
      "Epoch 31/500\n",
      "16/16 [==============================] - 0s 10ms/step - loss: 0.4885 - accuracy: 0.7769 - val_loss: 0.4578 - val_accuracy: 0.8430\n",
      "Epoch 32/500\n",
      "16/16 [==============================] - 0s 11ms/step - loss: 0.4762 - accuracy: 0.7893 - val_loss: 0.4846 - val_accuracy: 0.8512\n",
      "Epoch 33/500\n",
      "16/16 [==============================] - 0s 10ms/step - loss: 0.4824 - accuracy: 0.7665 - val_loss: 0.4607 - val_accuracy: 0.8430\n"
     ]
    },
    {
     "data": {
      "text/plain": [
       "<keras.callbacks.History at 0x29ff1ba6880>"
      ]
     },
     "execution_count": 95,
     "metadata": {},
     "output_type": "execute_result"
    }
   ],
   "source": [
    "model.fit(x_train, y_train, epochs = 500, verbose = 1, callbacks=[es], validation_split=0.2)"
   ]
  },
  {
   "cell_type": "code",
   "execution_count": 96,
   "id": "c18486f8",
   "metadata": {},
   "outputs": [
    {
     "name": "stdout",
     "output_type": "stream",
     "text": [
      "4/4 [==============================] - 0s 3ms/step\n"
     ]
    }
   ],
   "source": [
    "pred = model.predict(x_val)\n",
    "pred = np.round(pred)"
   ]
  },
  {
   "cell_type": "code",
   "execution_count": 97,
   "id": "2a19587e",
   "metadata": {},
   "outputs": [
    {
     "name": "stdout",
     "output_type": "stream",
     "text": [
      "[[51 12]\n",
      " [14 30]]\n",
      "💘💘💘💘💘💘💘💘💘💘💘💘💘💘💘💘💘💘💘💘\n",
      "              precision    recall  f1-score   support\n",
      "\n",
      "           0       0.78      0.81      0.80        63\n",
      "           1       0.71      0.68      0.70        44\n",
      "\n",
      "    accuracy                           0.76       107\n",
      "   macro avg       0.75      0.75      0.75       107\n",
      "weighted avg       0.76      0.76      0.76       107\n",
      "\n"
     ]
    }
   ],
   "source": [
    "print(confusion_matrix(y_val, pred))\n",
    "print('💘'*20)\n",
    "print(classification_report(y_val, pred))"
   ]
  },
  {
   "cell_type": "code",
   "execution_count": null,
   "id": "3604b3c5",
   "metadata": {},
   "outputs": [],
   "source": []
  }
 ],
 "metadata": {
  "kernelspec": {
   "display_name": "Python 3 (ipykernel)",
   "language": "python",
   "name": "python3"
  },
  "language_info": {
   "codemirror_mode": {
    "name": "ipython",
    "version": 3
   },
   "file_extension": ".py",
   "mimetype": "text/x-python",
   "name": "python",
   "nbconvert_exporter": "python",
   "pygments_lexer": "ipython3",
   "version": "3.9.12"
  }
 },
 "nbformat": 4,
 "nbformat_minor": 5
}
